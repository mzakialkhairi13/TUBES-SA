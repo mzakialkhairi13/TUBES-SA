{
  "nbformat": 4,
  "nbformat_minor": 0,
  "metadata": {
    "colab": {
      "name": "TUBES SA.ipynb",
      "provenance": [],
      "collapsed_sections": []
    },
    "kernelspec": {
      "name": "python3",
      "display_name": "Python 3"
    },
    "language_info": {
      "name": "python"
    }
  },
  "cells": [
    {
      "cell_type": "markdown",
      "source": [
        "\n",
        "Tugas Besar Strategi Algoritma \n",
        "\n",
        "Anggota :\n",
        "\n",
        "1.   Hanifan Nurul Haq (1301218609)\n",
        "2.   Muhammad Zaki Alkhairi (1301218590)\n",
        "3. Yolanda Stefani Putri br Purba (1301218602)\n",
        "\n",
        "\n",
        "\n",
        "Kasus : Maximum Profit by buying and selling a share at most k times\n",
        "Strategi : Greedy and Brute Forca "
      ],
      "metadata": {
        "id": "_UbIUvAXfsG4"
      }
    },
    {
      "cell_type": "markdown",
      "source": [
        "Brute Force"
      ],
      "metadata": {
        "id": "kS1qrXYFCcGK"
      }
    },
    {
      "cell_type": "code",
      "source": [
        "def maxProfit(prices):\n",
        "  max_profit = 0\n",
        "  for i in range(1,len(prices)):\n",
        "      if prices[i] - prices[i-1] >0:\n",
        "          max_profit+=(prices[i] - prices[i-1])\n",
        "  return max_profit"
      ],
      "metadata": {
        "id": "1xlaZLfjCYG7"
      },
      "execution_count": 92,
      "outputs": []
    },
    {
      "cell_type": "code",
      "source": [
        "prices = [80, 120, 65, 200, 430, 520, 600 ]\n",
        "print('max profit: ', maxProfit(prices))"
      ],
      "metadata": {
        "colab": {
          "base_uri": "https://localhost:8080/"
        },
        "id": "A4r8U_69bAeJ",
        "outputId": "c5d6053b-419e-46f8-89a6-5236df0a01bf"
      },
      "execution_count": 93,
      "outputs": [
        {
          "output_type": "stream",
          "name": "stdout",
          "text": [
            "max profit:  575\n"
          ]
        }
      ]
    },
    {
      "cell_type": "markdown",
      "source": [
        "Greedy"
      ],
      "metadata": {
        "id": "ga6pxYYIQu7L"
      }
    },
    {
      "cell_type": "code",
      "source": [
        "def maxProfit(n, k, prices):\n",
        "\tans = 0\n",
        "\tbuy = 0\n",
        "\tsell = 0\n",
        "\t# stack\n",
        "\ttransaction = []\n",
        "\t# priority queue\n",
        "\tprofits = []\n",
        "\n",
        "\twhile (sell < n):\n",
        "\t\tbuy = sell\n",
        "\n",
        "\t\twhile (buy < n - 1 and prices[buy] >= prices[buy + 1]):\n",
        "\t\t\tbuy += 1\n",
        "\n",
        "\t\tsell = buy + 1\n",
        "\n",
        "\t\twhile (sell < n and prices[sell] >= prices[sell - 1]):\n",
        "\t\t\tsell += 1\n",
        "\n",
        "\t\twhile (len(transaction) !=0 and prices[buy] < prices[transaction[len(transaction)-1][0]]):\n",
        "\t\t\tp = transaction[len(transaction)-1]\n",
        "\n",
        "\t\t\tprofits.append(prices[p[1] - 1] - prices[p[0]])\n",
        "\n",
        "\t\t\ttransaction.remove(transaction[len(transaction)-1])\n",
        "\n",
        "\t\tprofits.sort(reverse=True)\n",
        "\t\twhile (len(transaction)!=0 and prices[sell - 1] > prices[transaction[len(transaction)-1][1] - 1]):\n",
        "\t\t\tp = transaction[len(transaction)-1]\n",
        "\n",
        "\t\t\tprofits.append(prices[p[1] - 1] - prices[buy])\n",
        "\t\t\tbuy = p[0]\n",
        "\n",
        "\t\t\ttransaction.remove(transaction[len(transaction)-1])\n",
        "\n",
        "\t\ttransaction.append([buy, sell])\n",
        "\t\n",
        "\tprofits.sort(reverse=True)\n",
        "\n",
        "\twhile (len(transaction) != 0):\n",
        "\t\tprofits.append(prices[transaction[len(transaction)-1][1]- 1]-prices[transaction[len(transaction)-1][0]])\n",
        "\t\ttransaction.remove(transaction[len(transaction)-1])\n",
        "\n",
        "\tprofits.sort(reverse=True)\n",
        "\n",
        "\twhile (k!=0 and len(profits)!=0):\n",
        "\t\tans += profits[0]\n",
        "\t\tprofits.remove(profits[0])\n",
        "\t\tk -= 1\n",
        "\n",
        "\treturn ans\n",
        "\n",
        "\n",
        "if __name__ == '__main__':\n",
        "\tk = 3\n",
        "\tprices = [80, 120, 65, 200, 430, 520, 600 ]\n",
        "\tn = len(prices)\n",
        "\n",
        "\tprint(\"Maximum profit is\",maxProfit(n, k, prices))\n",
        "\n"
      ],
      "metadata": {
        "id": "htJaEM-NPPFt",
        "colab": {
          "base_uri": "https://localhost:8080/"
        },
        "outputId": "df2ff908-1538-4fbd-da83-69ebae34d514"
      },
      "execution_count": null,
      "outputs": [
        {
          "output_type": "stream",
          "name": "stdout",
          "text": [
            "Maximum profit is 575\n"
          ]
        }
      ]
    }
  ]
}